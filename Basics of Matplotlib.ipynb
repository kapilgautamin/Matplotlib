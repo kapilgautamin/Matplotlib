{
 "cells": [
  {
   "cell_type": "markdown",
   "metadata": {},
   "source": [
    "Matplotlib architecture \n",
    "1. Backend layer (FigureCanvas,Renderer,Event)\n",
    "2. Artist Layer (Artist)\n",
    "3. Scripting Layer (Pyplot)\n",
    "\n",
    "Matplotlib Backend has three interface libraries:\n",
    "    1. FigureCanvas\n",
    "    2. Renderer\n",
    "    3. Event\n",
    "    \n",
    "Artist Layer : Knows how to use the renderer to draw on the Canvas\n",
    "\n",
    "Since the matplotlib was developed for the scientists to visualize the data, matplotlib\n",
    "has a scripting layer, which in itself has the functions required to plot the data, and \n",
    "can be used directly.\n",
    "\n",
    "Scripting Layer : Contains the Artist and the Canvas."
   ]
  },
  {
   "cell_type": "code",
   "execution_count": 1,
   "metadata": {},
   "outputs": [],
   "source": [
    "\"\"\"\n",
    "A magic function can be used to pass special functions for python\n",
    "Here, '#matplotlib' is the magic function and we are using its backend version 'inline'\n",
    "to embed the graph in the Notebook itself.\n",
    "Although once it is rendered, you cannot change it dynamically, you will have to regenerate the plot\n",
    "to do that.\n",
    "Also this backend creates one figure and all other plots will use that one active figure.\n",
    "\"\"\"\n",
    "#matplotlib inline\n",
    "import matplotlib.pyplot as plt"
   ]
  },
  {
   "cell_type": "code",
   "execution_count": 2,
   "metadata": {},
   "outputs": [
    {
     "data": {
      "text/plain": [
       "[<matplotlib.lines.Line2D at 0x2120146b518>]"
      ]
     },
     "execution_count": 2,
     "metadata": {},
     "output_type": "execute_result"
    },
    {
     "data": {
      "image/png": "[encoded data removed]",
      "text/plain": [
       "<Figure size 432x288 with 1 Axes>"
      ]
     },
     "metadata": {
      "needs_background": "light"
     },
     "output_type": "display_data"
    }
   ],
   "source": [
    "plt.ylabel('Y')\n",
    "plt.xlabel('X')\n",
    "plt.title(\"Point Plotting Example\")\n",
    "plt.plot(5,5,'o')"
   ]
  },
  {
   "cell_type": "code",
   "execution_count": 3,
   "metadata": {},
   "outputs": [],
   "source": [
    "import numpy as np"
   ]
  },
  {
   "cell_type": "code",
   "execution_count": 4,
   "metadata": {},
   "outputs": [],
   "source": [
    "points = np.random.random(100)"
   ]
  },
  {
   "cell_type": "code",
   "execution_count": 5,
   "metadata": {},
   "outputs": [
    {
     "data": {
      "text/plain": [
       "array([0.43173897, 0.87600358, 0.34139934, 0.88779038, 0.11770598,\n",
       "       0.61922192, 0.58969743, 0.82328309, 0.85785865, 0.57888024,\n",
       "       0.76154909, 0.53541698, 0.03984463, 0.79588408, 0.55383828,\n",
       "       0.1651319 , 0.04657812, 0.01303563, 0.15313855, 0.41824843,\n",
       "       0.10857969, 0.61630108, 0.96727866, 0.28298682, 0.96584462,\n",
       "       0.51980899, 0.12386495, 0.56521978, 0.5088712 , 0.47642962,\n",
       "       0.97135122, 0.98354176, 0.39693322, 0.03423371, 0.32955461,\n",
       "       0.46131976, 0.150026  , 0.64783588, 0.92531682, 0.06104342,\n",
       "       0.80007717, 0.85431043, 0.03071164, 0.97031401, 0.98634179,\n",
       "       0.8661127 , 0.85600111, 0.57092187, 0.8169296 , 0.66028166,\n",
       "       0.7072625 , 0.39225331, 0.12366339, 0.36846945, 0.20690717,\n",
       "       0.65264429, 0.70582422, 0.30626117, 0.78581388, 0.68825885,\n",
       "       0.98835536, 0.80797607, 0.5813715 , 0.10262891, 0.12634055,\n",
       "       0.55369757, 0.54269743, 0.12466281, 0.58688888, 0.16909035,\n",
       "       0.79465659, 0.25195441, 0.10737753, 0.41432118, 0.07169103,\n",
       "       0.58590874, 0.57956749, 0.33653495, 0.76466164, 0.2666995 ,\n",
       "       0.84532229, 0.14921432, 0.96451542, 0.11677891, 0.56244258,\n",
       "       0.83218692, 0.10479701, 0.144334  , 0.38869602, 0.18098824,\n",
       "       0.74141317, 0.75317898, 0.70153919, 0.38203473, 0.98775841,\n",
       "       0.26693573, 0.47495648, 0.47151128, 0.92068978, 0.61588046])"
      ]
     },
     "execution_count": 5,
     "metadata": {},
     "output_type": "execute_result"
    }
   ],
   "source": [
    "points"
   ]
  },
  {
   "cell_type": "code",
   "execution_count": 11,
   "metadata": {},
   "outputs": [
    {
     "data": {
      "image/png": "[encoded data removed]",
      "text/plain": [
       "<Figure size 432x288 with 1 Axes>"
      ]
     },
     "metadata": {
      "needs_background": "light"
     },
     "output_type": "display_data"
    }
   ],
   "source": [
    "plt.hist(points,100)\n",
    "plt.title(\"Histogram\")\n",
    "plt.show()"
   ]
  },
  {
   "cell_type": "code",
   "execution_count": null,
   "metadata": {},
   "outputs": [],
   "source": []
  }
 ],
 "metadata": {
  "kernelspec": {
   "display_name": "Python 3",
   "language": "python",
   "name": "python3"
  },
  "language_info": {
   "codemirror_mode": {
    "name": "ipython",
    "version": 3
   },
   "file_extension": ".py",
   "mimetype": "text/x-python",
   "name": "python",
   "nbconvert_exporter": "python",
   "pygments_lexer": "ipython3",
   "version": "3.7.0"
  }
 },
 "nbformat": 4,
 "nbformat_minor": 2
}
